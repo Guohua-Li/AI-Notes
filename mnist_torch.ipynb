{
  "nbformat": 4,
  "nbformat_minor": 0,
  "metadata": {
    "colab": {
      "provenance": []
    },
    "kernelspec": {
      "name": "python3",
      "display_name": "Python 3"
    },
    "language_info": {
      "name": "python"
    }
  },
  "cells": [
    {
      "cell_type": "code",
      "execution_count": 1,
      "metadata": {
        "id": "lzXh0UNxmPf4"
      },
      "outputs": [],
      "source": [
        "import torch as T\n",
        "import torch.nn as nn\n",
        "import torch.optim as optim\n",
        "import torch.nn.functional as F\n",
        "from torchvision import datasets, transforms, utils\n",
        "from torch.utils.data import DataLoader, Subset, Dataset, TensorDataset\n",
        "from sklearn.model_selection import train_test_split\n",
        "import matplotlib.pyplot as plt"
      ]
    },
    {
      "cell_type": "code",
      "source": [
        "T.set_printoptions(precision=5)"
      ],
      "metadata": {
        "id": "i3CfMM2ePv-Y"
      },
      "execution_count": 2,
      "outputs": []
    },
    {
      "cell_type": "code",
      "source": [
        "transform = transforms.Compose([transforms.ToTensor(), transforms.Normalize((0.13093,), (0.30845,))])"
      ],
      "metadata": {
        "id": "IMsOI5s3mZ4k"
      },
      "execution_count": 3,
      "outputs": []
    },
    {
      "cell_type": "code",
      "source": [
        "# Load MNIST data into MNIST objects\n",
        "path = '/content/drive/MyDrive/Dataset'\n",
        "train_dataset = datasets.MNIST(root=path, train=True,  download=True, transform=transform)\n",
        "test_dataset  = datasets.MNIST(root=path, train=False, download=True, transform=transform)"
      ],
      "metadata": {
        "id": "NfFHWbVLmqQM"
      },
      "execution_count": 4,
      "outputs": []
    },
    {
      "cell_type": "code",
      "source": [
        "VALID_SIZE = 0.2\n",
        "BATCH_SIZE = 32"
      ],
      "metadata": {
        "id": "AI0eSJARy5ZX"
      },
      "execution_count": 5,
      "outputs": []
    },
    {
      "cell_type": "code",
      "source": [
        "# train_idx and valid_idx are lists, _ and _ are train_labels and valid_labels (tensors)\n",
        "train_idx, valid_idx, _, _ = train_test_split(\n",
        "    range(len(train_dataset)),\n",
        "    train_dataset.targets,\n",
        "    stratify  = train_dataset.targets,\n",
        "    test_size = VALID_SIZE,\n",
        "    random_state=42\n",
        ")"
      ],
      "metadata": {
        "id": "FtVQ6_rFzJ_B"
      },
      "execution_count": 6,
      "outputs": []
    },
    {
      "cell_type": "code",
      "source": [
        "# generate subset instances\n",
        "train_set = Subset(train_dataset, train_idx)\n",
        "valid_set = Subset(train_dataset, valid_idx)\n",
        "len(train_set), len(valid_set) # = (48000, 12000)"
      ],
      "metadata": {
        "colab": {
          "base_uri": "https://localhost:8080/"
        },
        "id": "zyuGXOOM0Usq",
        "outputId": "9d517ce0-e8e8-4784-b5bd-cf46b8647ad8"
      },
      "execution_count": 7,
      "outputs": [
        {
          "output_type": "execute_result",
          "data": {
            "text/plain": [
              "(48000, 12000)"
            ]
          },
          "metadata": {},
          "execution_count": 7
        }
      ]
    },
    {
      "cell_type": "code",
      "source": [
        "# create batches\n",
        "train_dl = DataLoader(train_set,    batch_size=BATCH_SIZE, shuffle=True) # 48000\n",
        "valid_dl = DataLoader(valid_set,    batch_size=BATCH_SIZE, shuffle=True) # 12000\n",
        "test_dl  = DataLoader(test_dataset, batch_size=BATCH_SIZE, shuffle=False)# 10016"
      ],
      "metadata": {
        "id": "Jxme4I4k0bpw"
      },
      "execution_count": 8,
      "outputs": []
    },
    {
      "cell_type": "code",
      "source": [
        "class Net(nn.Module):\n",
        "    def __init__(self):\n",
        "        super(Net, self).__init__()\n",
        "        self.flatten = nn.Flatten()\n",
        "        self.fc1 = nn.Linear(784, 128) # 28*28 = 784\n",
        "        self.fc2 = nn.Linear(128, 10)\n",
        "\n",
        "    def forward(self, x):\n",
        "        x = self.flatten(x)            # Size([BATCH_SIZE, 784])\n",
        "        x = self.fc1(x)\n",
        "        x = T.relu(x)                  # Size([BATCH_SIZE, 128])\n",
        "        return self.fc2(x)\n"
      ],
      "metadata": {
        "id": "TTxo4TKDnQln"
      },
      "execution_count": 9,
      "outputs": []
    },
    {
      "cell_type": "code",
      "source": [
        "model = Net()\n",
        "optimizer = optim.Adam(model.parameters(), lr=0.001)\n",
        "criterion = nn.CrossEntropyLoss()"
      ],
      "metadata": {
        "id": "PLDGHmCtpg-P"
      },
      "execution_count": 11,
      "outputs": []
    },
    {
      "cell_type": "code",
      "source": [
        "EPOCHS = 20\n",
        "train_losses = []\n",
        "valid_losses = []\n",
        "train_acc = []\n",
        "valid_acc = []\n",
        "for epoch in range(EPOCHS):\n",
        "    running_loss = 0\n",
        "    running_corr = 0\n",
        "    total = 0\n",
        "    for batch_idx, (inputs, labels) in enumerate (train_dl): # Run the training batches\n",
        "        total += BATCH_SIZE\n",
        "        outputs = model(inputs)\n",
        "        loss = criterion(outputs, labels)\n",
        "        max_indices = T.max(outputs, 1)[1]\n",
        "        matches = (max_indices == labels)\n",
        "        running_corr += matches.sum().item()\n",
        "        optimizer.zero_grad()\n",
        "        loss.backward()\n",
        "        optimizer.step()\n",
        "        running_loss += loss.item()\n",
        "        if batch_idx % (10*BATCH_SIZE) == 0:\n",
        "            print( 'epoch {}, loss: {:.4f}'.format(epoch+1, loss.item()) )\n",
        "\n",
        "    train_losses.append(running_loss/len(train_dl))\n",
        "    train_acc.append(running_corr/total)\n",
        "\n",
        "    # Run the validation\n",
        "    running_loss = 0.0\n",
        "    running_corr = 0\n",
        "    total = 0\n",
        "    model.eval()\n",
        "    with T.no_grad():\n",
        "        for inputs, labels in valid_dl: # valid_loader\n",
        "            total += labels.size(0)\n",
        "            outputs = model(inputs)\n",
        "            loss = criterion(outputs, labels)\n",
        "            running_loss += loss.item() # = loss.item() * inputs.size(0)\n",
        "            max_indices = T.max(outputs.data, 1)[1]\n",
        "            running_corr += (max_indices == labels).sum().item()\n",
        "\n",
        "    valid_losses.append(running_loss / len(valid_dl))\n",
        "    valid_acc.append(running_corr/total)\n",
        "    print(f'Epoch {epoch+1} loss: {train_losses[-1]:.4f} val_loss: {valid_losses[-1]:.4f}')"
      ],
      "metadata": {
        "id": "DPbADbNW04dc",
        "colab": {
          "base_uri": "https://localhost:8080/"
        },
        "outputId": "c28345ba-65c6-4462-91a9-06d2352c7e0b"
      },
      "execution_count": 12,
      "outputs": [
        {
          "output_type": "stream",
          "name": "stdout",
          "text": [
            "epoch 1, loss: 2.3679\n",
            "epoch 1, loss: 0.3291\n",
            "epoch 1, loss: 0.3900\n",
            "epoch 1, loss: 0.1055\n",
            "epoch 1, loss: 0.0982\n",
            "Epoch: 1 loss: 0.2449 val_loss: 0.1386\n",
            "epoch 2, loss: 0.0484\n",
            "epoch 2, loss: 0.0674\n",
            "epoch 2, loss: 0.0355\n",
            "epoch 2, loss: 0.1047\n",
            "epoch 2, loss: 0.0181\n",
            "Epoch: 2 loss: 0.1124 val_loss: 0.1237\n",
            "epoch 3, loss: 0.0919\n",
            "epoch 3, loss: 0.0087\n",
            "epoch 3, loss: 0.1306\n",
            "epoch 3, loss: 0.0380\n",
            "epoch 3, loss: 0.0788\n",
            "Epoch: 3 loss: 0.0786 val_loss: 0.0979\n",
            "epoch 4, loss: 0.0333\n",
            "epoch 4, loss: 0.0547\n",
            "epoch 4, loss: 0.0794\n",
            "epoch 4, loss: 0.1101\n",
            "epoch 4, loss: 0.0163\n",
            "Epoch: 4 loss: 0.0584 val_loss: 0.1129\n",
            "epoch 5, loss: 0.0453\n",
            "epoch 5, loss: 0.1655\n",
            "epoch 5, loss: 0.1325\n",
            "epoch 5, loss: 0.0067\n",
            "epoch 5, loss: 0.0090\n",
            "Epoch: 5 loss: 0.0478 val_loss: 0.0907\n",
            "epoch 6, loss: 0.0021\n",
            "epoch 6, loss: 0.0293\n",
            "epoch 6, loss: 0.0408\n",
            "epoch 6, loss: 0.0123\n",
            "epoch 6, loss: 0.0385\n",
            "Epoch: 6 loss: 0.0353 val_loss: 0.1070\n",
            "epoch 7, loss: 0.0950\n",
            "epoch 7, loss: 0.0230\n",
            "epoch 7, loss: 0.0219\n",
            "epoch 7, loss: 0.0158\n",
            "epoch 7, loss: 0.1092\n",
            "Epoch: 7 loss: 0.0335 val_loss: 0.1111\n",
            "epoch 8, loss: 0.0735\n",
            "epoch 8, loss: 0.0086\n",
            "epoch 8, loss: 0.0104\n",
            "epoch 8, loss: 0.0102\n",
            "epoch 8, loss: 0.0038\n",
            "Epoch: 8 loss: 0.0264 val_loss: 0.1037\n",
            "epoch 9, loss: 0.0017\n",
            "epoch 9, loss: 0.0254\n",
            "epoch 9, loss: 0.0028\n",
            "epoch 9, loss: 0.0076\n",
            "epoch 9, loss: 0.0095\n",
            "Epoch: 9 loss: 0.0240 val_loss: 0.1037\n",
            "epoch 10, loss: 0.0017\n",
            "epoch 10, loss: 0.0767\n",
            "epoch 10, loss: 0.0104\n",
            "epoch 10, loss: 0.0004\n",
            "epoch 10, loss: 0.0128\n",
            "Epoch: 10 loss: 0.0203 val_loss: 0.1055\n",
            "epoch 11, loss: 0.0058\n",
            "epoch 11, loss: 0.0235\n",
            "epoch 11, loss: 0.0011\n",
            "epoch 11, loss: 0.0027\n",
            "epoch 11, loss: 0.0001\n",
            "Epoch: 11 loss: 0.0185 val_loss: 0.1025\n",
            "epoch 12, loss: 0.0039\n",
            "epoch 12, loss: 0.0053\n",
            "epoch 12, loss: 0.0449\n",
            "epoch 12, loss: 0.0202\n",
            "epoch 12, loss: 0.0716\n",
            "Epoch: 12 loss: 0.0171 val_loss: 0.1138\n",
            "epoch 13, loss: 0.0004\n",
            "epoch 13, loss: 0.0032\n",
            "epoch 13, loss: 0.0157\n",
            "epoch 13, loss: 0.1537\n",
            "epoch 13, loss: 0.0197\n",
            "Epoch: 13 loss: 0.0185 val_loss: 0.1177\n",
            "epoch 14, loss: 0.0002\n",
            "epoch 14, loss: 0.0068\n",
            "epoch 14, loss: 0.0015\n",
            "epoch 14, loss: 0.0027\n",
            "epoch 14, loss: 0.0302\n",
            "Epoch: 14 loss: 0.0142 val_loss: 0.1429\n",
            "epoch 15, loss: 0.0018\n",
            "epoch 15, loss: 0.0001\n",
            "epoch 15, loss: 0.0060\n",
            "epoch 15, loss: 0.0005\n",
            "epoch 15, loss: 0.0008\n",
            "Epoch: 15 loss: 0.0140 val_loss: 0.1372\n",
            "epoch 16, loss: 0.0299\n",
            "epoch 16, loss: 0.0001\n",
            "epoch 16, loss: 0.0060\n",
            "epoch 16, loss: 0.0002\n",
            "epoch 16, loss: 0.0001\n",
            "Epoch: 16 loss: 0.0147 val_loss: 0.1262\n",
            "epoch 17, loss: 0.0002\n",
            "epoch 17, loss: 0.0070\n",
            "epoch 17, loss: 0.0219\n",
            "epoch 17, loss: 0.0005\n",
            "epoch 17, loss: 0.0688\n",
            "Epoch: 17 loss: 0.0113 val_loss: 0.1295\n",
            "epoch 18, loss: 0.0161\n",
            "epoch 18, loss: 0.0001\n",
            "epoch 18, loss: 0.0021\n",
            "epoch 18, loss: 0.0035\n",
            "epoch 18, loss: 0.0005\n",
            "Epoch: 18 loss: 0.0113 val_loss: 0.1386\n",
            "epoch 19, loss: 0.0041\n",
            "epoch 19, loss: 0.0001\n",
            "epoch 19, loss: 0.0004\n",
            "epoch 19, loss: 0.0010\n",
            "epoch 19, loss: 0.0041\n",
            "Epoch: 19 loss: 0.0107 val_loss: 0.1610\n",
            "epoch 20, loss: 0.0010\n",
            "epoch 20, loss: 0.0001\n",
            "epoch 20, loss: 0.0001\n",
            "epoch 20, loss: 0.0008\n",
            "epoch 20, loss: 0.0005\n",
            "Epoch: 20 loss: 0.0129 val_loss: 0.1469\n"
          ]
        }
      ]
    },
    {
      "cell_type": "code",
      "source": [
        "x_range = range(1, EPOCHS+1)\n",
        "\n",
        "fig, ax = plt.subplots(2,1)\n",
        "ax[0].plot(x_range, train_losses, color='r', label=\"train loss\")\n",
        "ax[0].plot(x_range, valid_losses, color='b', label=\"validation loss\")\n",
        "ax[0].legend(loc='best', shadow=True)\n",
        "ax[0].set_xlim([1, EPOCHS])\n",
        "ax[0].set_xticks(range(1, EPOCHS+1))\n",
        "ax[0].set_ylim([0,0.4])\n",
        "ax[0].set_ylabel(\"loss\")\n",
        "\n",
        "ax[1].plot(x_range, train_acc, color='r',label=\"train acc\")\n",
        "ax[1].plot(x_range, valid_acc,  color='b',label=\"validation acc\")\n",
        "ax[1].legend(loc='best', shadow=True)\n",
        "ax[1].set_xlim([1,EPOCHS])\n",
        "ax[1].set_xticks(x_range)\n",
        "ax[1].set_ylim([0.8,1])\n",
        "ax[1].set_ylabel(\"accuracy\")\n",
        "plt.show()"
      ],
      "metadata": {
        "colab": {
          "base_uri": "https://localhost:8080/",
          "height": 435
        },
        "id": "Hcy0unXA9y3f",
        "outputId": "a3ef94f1-dad0-44bd-bc31-170e644cd50b"
      },
      "execution_count": 13,
      "outputs": [
        {
          "output_type": "display_data",
          "data": {
            "text/plain": [
              "<Figure size 640x480 with 2 Axes>"
            ],
            "image/png": "[encoded data removed]"
          },
          "metadata": {}
        }
      ]
    },
    {
      "cell_type": "code",
      "source": [
        "model.eval()\n",
        "correct = 0\n",
        "total = 0\n",
        "with T.no_grad():\n",
        "    for images, labels in test_dl:\n",
        "        total += BATCH_SIZE\n",
        "        output = model(images)\n",
        "        _, predicted = T.max(output.data, 1)\n",
        "        correct += (predicted == labels).sum().item()\n",
        "print(f\"Accuracy: {100 * correct / total:.4f}%\")"
      ],
      "metadata": {
        "id": "1N_3iDWsorDm",
        "colab": {
          "base_uri": "https://localhost:8080/"
        },
        "outputId": "c5ccebdc-9bfe-43f0-c4ea-a39e35a3b744"
      },
      "execution_count": 15,
      "outputs": [
        {
          "output_type": "stream",
          "name": "stdout",
          "text": [
            "Accuracy: 97.4141%\n"
          ]
        }
      ]
    },
    {
      "cell_type": "code",
      "source": [
        "sample_images, _ = next(iter(test_dl))"
      ],
      "metadata": {
        "id": "IDnqKeSX-veY"
      },
      "execution_count": 16,
      "outputs": []
    },
    {
      "cell_type": "code",
      "source": [
        "img_grid = utils.make_grid(sample_images)\n",
        "img = transforms.ToPILImage()(img_grid)\n",
        "img"
      ],
      "metadata": {
        "colab": {
          "base_uri": "https://localhost:8080/",
          "height": 139
        },
        "id": "DeSVp-gO-yTW",
        "outputId": "0d1d5f55-3650-4b70-90e9-bdeefedb7248"
      },
      "execution_count": 17,
      "outputs": [
        {
          "output_type": "execute_result",
          "data": {
            "text/plain": [
              "<PIL.Image.Image image mode=RGB size=242x122>"
            ],
            "image/png": "[encoded data removed]"
          },
          "metadata": {},
          "execution_count": 17
        }
      ]
    },
    {
      "cell_type": "code",
      "source": [
        "# Make predictions\n",
        "output = model(sample_images)\n",
        "#output = F.softmax(output, dim=1)\n",
        "_, pred = T.max(output.data, 1)\n",
        "print(pred.detach().numpy())"
      ],
      "metadata": {
        "id": "OuC9m2y1pStr",
        "colab": {
          "base_uri": "https://localhost:8080/"
        },
        "outputId": "d1e85d73-e6aa-491a-f884-23431c8c5d5c"
      },
      "execution_count": 20,
      "outputs": [
        {
          "output_type": "stream",
          "name": "stdout",
          "text": [
            "[7 2 1 0 4 1 4 9 6 9 0 6 9 0 1 5 9 7 3 4 9 6 6 5 4 0 7 4 0 1 3 1]\n"
          ]
        }
      ]
    }
  ]
}