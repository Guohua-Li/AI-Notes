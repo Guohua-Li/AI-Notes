{
  "nbformat": 4,
  "nbformat_minor": 0,
  "metadata": {
    "colab": {
      "provenance": []
    },
    "kernelspec": {
      "name": "python3",
      "display_name": "Python 3"
    },
    "language_info": {
      "name": "python"
    }
  },
  "cells": [
    {
      "cell_type": "code",
      "source": [
        "import torch as T\n",
        "import torch.nn.functional as F\n",
        "import matplotlib.pyplot as plt"
      ],
      "metadata": {
        "id": "mdsEQCBK2RMH"
      },
      "execution_count": null,
      "outputs": []
    },
    {
      "cell_type": "code",
      "source": [
        "P  = T.tensor([1.0,   0.0,   0.0,   0.0  ])"
      ],
      "metadata": {
        "id": "COBeNAm9wvQX"
      },
      "execution_count": null,
      "outputs": []
    },
    {
      "cell_type": "code",
      "source": [
        "L1 = T.tensor([3.9, 0.01, 0.01, 0.2])\n",
        "L2 = T.tensor([2.4, 0.5,  0.25, 0.2])\n",
        "L3 = T.tensor([1.5, 0.5,  0.5,  0.5])\n",
        "L4 = T.tensor([0.2, 0.25, 0.5,  3.0])"
      ],
      "metadata": {
        "id": "QB96dzYMbUYR"
      },
      "execution_count": null,
      "outputs": []
    },
    {
      "cell_type": "code",
      "source": [
        "Q1 = T.softmax(L1, dim=0)\n",
        "Q2 = T.softmax(L2, dim=0)\n",
        "Q3 = T.softmax(L3, dim=0)\n",
        "Q4 = T.softmax(L4, dim=0)"
      ],
      "metadata": {
        "id": "lZhvdtCc9zMl"
      },
      "execution_count": null,
      "outputs": []
    },
    {
      "cell_type": "code",
      "source": [
        "Q1 = Q1.reshape(1,-1)\n",
        "Q2 = Q2.reshape(1,-1)\n",
        "Q3 = Q3.reshape(1,-1)\n",
        "Q4 = Q4.reshape(1,-1)"
      ],
      "metadata": {
        "id": "BykG3kBb-ofP"
      },
      "execution_count": null,
      "outputs": []
    },
    {
      "cell_type": "code",
      "source": [
        "r1 = F.nll_loss(Q1, T.tensor([0]))\n",
        "r2 = F.nll_loss(Q2, T.tensor([0]))\n",
        "r3 = F.nll_loss(Q3, T.tensor([0]))\n",
        "r4 = F.nll_loss(Q4, T.tensor([0]))\n",
        "print(f'ce1 = {r1}\\nce2 = {r2}\\nce3 = {r3}\\nce4 = {r4}')"
      ],
      "metadata": {
        "colab": {
          "base_uri": "https://localhost:8080/"
        },
        "id": "ehws8phkMxns",
        "outputId": "c9308320-0b44-4651-f6b8-6a1b2055060d"
      },
      "execution_count": null,
      "outputs": [
        {
          "output_type": "stream",
          "name": "stdout",
          "text": [
            "ce1 = -0.9384258985519409\n",
            "ce2 = -0.7262924313545227\n",
            "ce3 = -0.4753669202327728\n",
            "ce4 = -0.05038856342434883\n"
          ]
        }
      ]
    },
    {
      "cell_type": "code",
      "source": [
        "r1 = F.nll_loss(T.log(Q1), T.tensor([0]))\n",
        "r2 = F.nll_loss(T.log(Q2), T.tensor([0]))\n",
        "r3 = F.nll_loss(T.log(Q3), T.tensor([0]))\n",
        "r4 = F.nll_loss(T.log(Q4), T.tensor([0]))\n",
        "print(f'r1 = {r1}\\nr2 = {r2}\\nr3 = {r3}\\nr4 = {r4}')"
      ],
      "metadata": {
        "colab": {
          "base_uri": "https://localhost:8080/"
        },
        "id": "rysj3H9Js5Kw",
        "outputId": "f726a2ba-9bcf-4eb3-c0d0-bf364e5e1500"
      },
      "execution_count": null,
      "outputs": [
        {
          "output_type": "stream",
          "name": "stdout",
          "text": [
            "r1 = 0.06355138123035431\n",
            "r2 = 0.31980255246162415\n",
            "r3 = 0.7436683177947998\n",
            "r4 = 2.9879910945892334\n"
          ]
        }
      ]
    },
    {
      "cell_type": "code",
      "source": [
        "T.log(Q1), T.log(Q2), T.log(Q3), T.log(Q4)"
      ],
      "metadata": {
        "id": "c-gSCPwpFdna",
        "outputId": "bd5cd339-f588-4c27-f56e-40baefe6691c",
        "colab": {
          "base_uri": "https://localhost:8080/"
        }
      },
      "execution_count": null,
      "outputs": [
        {
          "output_type": "execute_result",
          "data": {
            "text/plain": [
              "(tensor([[-0.0636, -3.9536, -3.9536, -3.7636]]),\n",
              " tensor([[-0.3198, -2.2198, -2.4698, -2.5198]]),\n",
              " tensor([[-0.7437, -1.7437, -1.7437, -1.7437]]),\n",
              " tensor([[-2.9880, -2.9380, -2.6880, -0.1880]]))"
            ]
          },
          "metadata": {},
          "execution_count": 13
        }
      ]
    },
    {
      "cell_type": "code",
      "source": [
        "L = T.stack([L1, L2, L3, L4])\n",
        "target = T.tensor([0,0,0,0]) # indices of \"hot spots\"\n",
        "ce = F.nll_loss(F.log_softmax(L,-1), target)\n",
        "print(ce)"
      ],
      "metadata": {
        "colab": {
          "base_uri": "https://localhost:8080/"
        },
        "id": "trjEGx-Iem-z",
        "outputId": "48effd18-7e8d-4092-aff6-f4675dce400c"
      },
      "execution_count": null,
      "outputs": [
        {
          "output_type": "stream",
          "name": "stdout",
          "text": [
            "tensor(1.0288)\n"
          ]
        }
      ]
    },
    {
      "cell_type": "code",
      "source": [
        "(F_ce1+F_ce2+F_ce3+F_ce4)/4."
      ],
      "metadata": {
        "colab": {
          "base_uri": "https://localhost:8080/"
        },
        "id": "7Z87A_eqgNT4",
        "outputId": "3c36748b-9947-48c8-f3c2-7760c0ff2168"
      },
      "execution_count": null,
      "outputs": [
        {
          "output_type": "execute_result",
          "data": {
            "text/plain": [
              "tensor(1.0288)"
            ]
          },
          "metadata": {},
          "execution_count": 11
        }
      ]
    }
  ]
}