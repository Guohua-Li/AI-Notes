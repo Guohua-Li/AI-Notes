{
  "nbformat": 4,
  "nbformat_minor": 0,
  "metadata": {
    "colab": {
      "provenance": []
    },
    "kernelspec": {
      "name": "python3",
      "display_name": "Python 3"
    },
    "language_info": {
      "name": "python"
    }
  },
  "cells": [
    {
      "cell_type": "code",
      "source": [
        "import torch as T\n",
        "import numpy as np\n",
        "import torch.nn.functional as F\n",
        "import matplotlib.pyplot as plt"
      ],
      "metadata": {
        "id": "mdsEQCBK2RMH"
      },
      "execution_count": null,
      "outputs": []
    },
    {
      "cell_type": "code",
      "source": [
        "P  = [1.0,   0.0,   0.0,   0.0  ]"
      ],
      "metadata": {
        "id": "COBeNAm9wvQX"
      },
      "execution_count": null,
      "outputs": []
    },
    {
      "cell_type": "code",
      "source": [
        "Q1 = [0.99,  0.,    0.,    0.01 ]\n",
        "Q2 = [0.5,   0.25,  0.125, 0.125]\n",
        "Q3 = [0.25,  0.25,  0.25,  0.25 ]\n",
        "Q4 = [0.125, 0.125, 0.25,  0.5  ]\n",
        "\n",
        "ce1 = -P[0]*np.log2(Q1[0])#-P[1]*np.log2(Q1[1])-P[2]*np.log2(Q1[2])-P[3]*np.log2(Q1[3])\n",
        "ce2 = -P[0]*np.log2(Q2[0])-P[1]*np.log2(Q2[1])-P[2]*np.log2(Q2[2])-P[3]*np.log2(Q2[3])\n",
        "ce3 = -P[0]*np.log2(Q3[0])-P[1]*np.log2(Q3[1])-P[2]*np.log2(Q3[2])-P[3]*np.log2(Q3[3])\n",
        "ce4 = -P[0]*np.log2(Q4[0])-P[1]*np.log2(Q4[1])-P[2]*np.log2(Q4[2])-P[3]*np.log2(Q4[3])\n",
        "print(f'ce1 = {ce1}\\nce2 = {ce2}\\nce3 = {ce3}\\nce4 = {ce4}')"
      ],
      "metadata": {
        "id": "K9KAz4vh4fFd"
      },
      "execution_count": null,
      "outputs": []
    },
    {
      "cell_type": "code",
      "source": [
        "def cross_entropy(P, Q, base=None):\n",
        "    Q = np.clip(Q, 1e-12, 1-1e-12)  # clip Q to prevent division by zero\n",
        "    if base == 2:\n",
        "        return -np.sum(P * np.log2(Q))\n",
        "    elif base == 10:\n",
        "        return -np.sum(P * np.log10(Q))\n",
        "    return -np.sum(P * np.log(Q))"
      ],
      "metadata": {
        "id": "zKLAspOdJGe6"
      },
      "execution_count": null,
      "outputs": []
    },
    {
      "cell_type": "code",
      "source": [
        "ce1 = cross_entropy(P, Q1)\n",
        "ce2 = cross_entropy(P, Q2)\n",
        "ce3 = cross_entropy(P, Q3)\n",
        "ce4 = cross_entropy(P, Q4)\n",
        "print(f'ce1 = {ce1}\\nce2 = {ce2}\\nce3 = {ce3}\\nce4 = {ce4}')"
      ],
      "metadata": {
        "id": "l2nOFjMQQyYx"
      },
      "execution_count": null,
      "outputs": []
    },
    {
      "cell_type": "code",
      "source": [
        "F_ce1 = F.cross_entropy(T.tensor(Q1), T.tensor(P))\n",
        "F_ce2 = F.cross_entropy(T.tensor(Q2), T.tensor(P))\n",
        "F_ce3 = F.cross_entropy(T.tensor(Q3), T.tensor(P))\n",
        "F_ce4 = F.cross_entropy(T.tensor(Q4), T.tensor(P))\n",
        "print(f'ce1 = {F_ce1}\\nce2 = {F_ce2}\\nce3 = {F_ce3}\\nce4 = {F_ce4}')"
      ],
      "metadata": {
        "id": "dTIwAM2iQ2ez"
      },
      "execution_count": null,
      "outputs": []
    },
    {
      "cell_type": "code",
      "source": [
        "def softmax_stable(x):\n",
        "    e_x = np.exp(x - np.max(x))\n",
        "    return e_x / e_x.sum(axis=0) # e_x / np.sum(e_x)"
      ],
      "metadata": {
        "id": "zWzKLx9gJ9ed"
      },
      "execution_count": null,
      "outputs": []
    },
    {
      "cell_type": "code",
      "source": [
        "L1 = [3.9, 0.01, 0.01, 0.2]\n",
        "L2 = [2.4, 0.5,  0.25, 0.2]\n",
        "L3 = [1.5, 0.5,  0.5,  0.5]\n",
        "L4 = [0.2, 0.25, 0.5,  3.0]"
      ],
      "metadata": {
        "id": "QB96dzYMbUYR"
      },
      "execution_count": null,
      "outputs": []
    },
    {
      "cell_type": "code",
      "source": [
        "Q1 = softmax_stable(L1)\n",
        "Q2 = softmax_stable(L2)\n",
        "Q3 = softmax_stable(L3)\n",
        "Q4 = softmax_stable(L4)"
      ],
      "metadata": {
        "id": "Mv5BVtNdbmRo"
      },
      "execution_count": null,
      "outputs": []
    },
    {
      "cell_type": "code",
      "source": [
        "ce1 = cross_entropy(P, Q1)\n",
        "ce2 = cross_entropy(P, Q2)\n",
        "ce3 = cross_entropy(P, Q3)\n",
        "ce4 = cross_entropy(P, Q4)\n",
        "print(f'ce1 = {ce1}\\nce2 = {ce2}\\nce3 = {ce3}\\nce4 = {ce4}')"
      ],
      "metadata": {
        "id": "i2t3oGmFb1TL"
      },
      "execution_count": null,
      "outputs": []
    },
    {
      "cell_type": "code",
      "source": [
        "F_ce1 = F.cross_entropy(T.tensor(L1),T.tensor(P))\n",
        "F_ce2 = F.cross_entropy(T.tensor(L2),T.tensor(P))\n",
        "F_ce3 = F.cross_entropy(T.tensor(L3),T.tensor(P))\n",
        "F_ce4 = F.cross_entropy(T.tensor(L4),T.tensor(P))\n",
        "print(f'ce1 = {F_ce1}\\nce2 = {F_ce2}\\nce3 = {F_ce3}\\nce4 = {F_ce4}')"
      ],
      "metadata": {
        "id": "zH8ir7xNcCWJ"
      },
      "execution_count": null,
      "outputs": []
    },
    {
      "cell_type": "code",
      "source": [
        "F_ce1 = F.cross_entropy(T.tensor([L1]),T.tensor([0]))\n",
        "F_ce2 = F.cross_entropy(T.tensor([L2]),T.tensor([0]))\n",
        "F_ce3 = F.cross_entropy(T.tensor([L3]),T.tensor([0]))\n",
        "F_ce4 = F.cross_entropy(T.tensor([L4]),T.tensor([0]))\n",
        "print(f'ce1 = {F_ce1}\\nce2 = {F_ce2}\\nce3 = {F_ce3}\\nce4 = {F_ce4}')\n",
        "print(f'average = {(F_ce1+F_ce2+F_ce3+F_ce4)/4.}')"
      ],
      "metadata": {
        "id": "KRbNltJAxobg"
      },
      "execution_count": null,
      "outputs": []
    },
    {
      "cell_type": "code",
      "source": [
        "L = T.tensor(np.array([L1, L2, L3, L4]))\n",
        "target = T.tensor([0,0,0,0])\n",
        "ce = F.cross_entropy(L, target)\n",
        "ce"
      ],
      "metadata": {
        "id": "iLwJd5Ft98bT"
      },
      "execution_count": null,
      "outputs": []
    }
  ]
}