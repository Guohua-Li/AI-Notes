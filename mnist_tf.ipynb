{
  "nbformat": 4,
  "nbformat_minor": 0,
  "metadata": {
    "colab": {
      "provenance": []
    },
    "kernelspec": {
      "name": "python3",
      "display_name": "Python 3"
    },
    "language_info": {
      "name": "python"
    }
  },
  "cells": [
    {
      "cell_type": "code",
      "source": [
        "from tensorflow.keras.utils import to_categorical\n",
        "from tensorflow.keras.datasets import mnist\n",
        "from tensorflow.keras.layers import Flatten, Dense, Input\n",
        "from tensorflow.keras.models import Sequential\n",
        "from tensorflow.keras.optimizers import Adam\n",
        "from tensorflow.keras.losses import CategoricalCrossentropy #, MeanSquaredError"
      ],
      "metadata": {
        "id": "ZdOGZq1pU0I2"
      },
      "execution_count": null,
      "outputs": []
    },
    {
      "cell_type": "code",
      "source": [
        "import matplotlib.pyplot as plt"
      ],
      "metadata": {
        "id": "p2iRZF5GEAO2"
      },
      "execution_count": null,
      "outputs": []
    },
    {
      "cell_type": "code",
      "source": [
        "# If you want to compare the results of runs with\n",
        "# different settings, make sure to set the random seed.\n",
        "import tensorflow as tf\n",
        "tf.random.set_seed(42)"
      ],
      "metadata": {
        "id": "ap3OC8zd1QlD"
      },
      "execution_count": null,
      "outputs": []
    },
    {
      "cell_type": "code",
      "source": [
        "(train_images, train_labels), (test_images, test_labels) = mnist.load_data()\n",
        "train_labels, test_labels = to_categorical(train_labels), to_categorical(test_labels)\n",
        "train_images, test_images = train_images/255.0, test_images/255.0"
      ],
      "metadata": {
        "id": "kPDVbyDHLi5c"
      },
      "execution_count": null,
      "outputs": []
    },
    {
      "cell_type": "code",
      "source": [
        "model = Sequential()\n",
        "model.add(Input(shape=(28,28)))\n",
        "model.add(Flatten())\n",
        "model.add(Dense(128, activation='relu'))\n",
        "model.add(Dense(10, activation='softmax'))"
      ],
      "metadata": {
        "id": "Idt28s6E-FCE"
      },
      "execution_count": null,
      "outputs": []
    },
    {
      "cell_type": "code",
      "source": [
        "model.compile(\n",
        "    optimizer = Adam(learning_rate=0.001),\n",
        "    loss = CategoricalCrossentropy(),\n",
        "    metrics = ['accuracy']\n",
        ")"
      ],
      "metadata": {
        "id": "ZX_zCgeU-SJE"
      },
      "execution_count": null,
      "outputs": []
    },
    {
      "cell_type": "code",
      "source": [
        "BATCH_SIZE = 64\n",
        "EPOCHS = 20"
      ],
      "metadata": {
        "id": "vs5SNBvTuqMu"
      },
      "execution_count": null,
      "outputs": []
    },
    {
      "cell_type": "code",
      "source": [
        "hist = model.fit(\n",
        "    train_images,\n",
        "    train_labels,\n",
        "    batch_size = BATCH_SIZE,\n",
        "    validation_split = 0.2,\n",
        "    epochs = EPOCHS\n",
        ")"
      ],
      "metadata": {
        "id": "C1PqDnGBZXJB"
      },
      "execution_count": null,
      "outputs": []
    },
    {
      "cell_type": "code",
      "source": [
        "x_range = range(1, EPOCHS+1)\n",
        "\n",
        "fig, ax = plt.subplots(2,1)\n",
        "ax[0].plot(x_range, hist.history['loss'],     color='r', label=\"train loss\")\n",
        "ax[0].plot(x_range, hist.history['val_loss'], color='b', label=\"validation loss\")\n",
        "ax[0].legend(loc='best', shadow=True)\n",
        "ax[0].set_xlim([1, EPOCHS])\n",
        "ax[0].set_xticks(range(1, EPOCHS+1))\n",
        "ax[0].set_ylim([0,0.4])\n",
        "ax[0].set_ylabel(\"loss\")\n",
        "\n",
        "ax[1].plot(x_range, hist.history['accuracy'], color='r',label=\"train acc\")\n",
        "ax[1].plot(x_range, hist.history['val_accuracy'],  color='b',label=\"validation acc\")\n",
        "ax[1].legend(loc='best', shadow=True)\n",
        "ax[1].set_xlim([1,EPOCHS])\n",
        "ax[1].set_xticks(x_range)\n",
        "ax[1].set_ylim([0.8,1])\n",
        "ax[1].set_ylabel(\"accuracy\")\n",
        "plt.show()"
      ],
      "metadata": {
        "id": "AdINpZoiHWXE"
      },
      "execution_count": null,
      "outputs": []
    },
    {
      "cell_type": "code",
      "source": [
        "results = model.evaluate(test_images, test_labels, verbose=2)\n",
        "results"
      ],
      "metadata": {
        "id": "ZC3cKgA_mCPU"
      },
      "execution_count": null,
      "outputs": []
    }
  ]
}